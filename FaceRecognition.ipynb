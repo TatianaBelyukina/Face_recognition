{
 "cells": [
  {
   "cell_type": "code",
   "execution_count": 1,
   "metadata": {},
   "outputs": [],
   "source": [
    "#Importing libraries \n",
    "import os\n",
    "import random\n",
    "import numpy as np\n",
    "import cv2\n",
    "from matplotlib import pyplot as plt\n",
    "from tensorflow.keras import  models\n",
    "from tensorflow.keras.models import Model\n",
    "from tensorflow.keras.layers import Layer, Conv2D, Dense, MaxPooling2D, Input, Flatten, Dropout\n",
    "import tensorflow as tf"
   ]
  },
  {
   "cell_type": "code",
   "execution_count": 74,
   "metadata": {},
   "outputs": [],
   "source": [
    "#load the dataset\n",
    "path_to_faces = os.path.join(os.getcwd(), 'data', 'olivetti', 'olivetti_faces.npy')\n",
    "path_to_labels = os.path.join(os.getcwd(),'data', 'olivetti', 'olivetti_faces_target.npy')"
   ]
  },
  {
   "cell_type": "code",
   "execution_count": 75,
   "metadata": {},
   "outputs": [],
   "source": [
    "# Function to generate image pairs\n",
    "def generate_image_pairs(images, labels):\n",
    "    # Generate index for each label\n",
    "    unique_labels = np.unique(labels)\n",
    "    label_wise_indices = dict()\n",
    "    for label in unique_labels:\n",
    "        label_wise_indices.setdefault(label,\n",
    "                                      [index for index, curr_label in enumerate(labels) if\n",
    "                                       label == curr_label])\n",
    "    \n",
    "    # Generate image pairs and labels\n",
    "    pair_images = []\n",
    "    pair_labels = []\n",
    "    for index, image in enumerate(images):\n",
    "        pos_indices = label_wise_indices.get(labels[index])\n",
    "        pos_image = images[np.random.choice(pos_indices)]\n",
    "        pair_images.append((image, pos_image))\n",
    "        pair_labels.append(1)\n",
    "\n",
    "        neg_indices = np.where(labels != labels[index])\n",
    "        neg_image = images[np.random.choice(neg_indices[0])]\n",
    "        pair_images.append((image, neg_image))\n",
    "        pair_labels.append(0)\n",
    "        \n",
    "    return np.array(pair_images), np.array(pair_labels)"
   ]
  },
  {
   "cell_type": "code",
   "execution_count": 76,
   "metadata": {},
   "outputs": [],
   "source": [
    "face_images = np.load(path_to_faces)\n",
    "face_labels = np.load(path_to_labels)"
   ]
  },
  {
   "cell_type": "code",
   "execution_count": 77,
   "metadata": {},
   "outputs": [],
   "source": [
    "target_shape = face_images[0].shape"
   ]
  },
  {
   "cell_type": "code",
   "execution_count": 78,
   "metadata": {},
   "outputs": [],
   "source": [
    "from sklearn.utils import shuffle\n",
    "images_dataset, labels_dataset = generate_image_pairs(face_images, face_labels)\n",
    "images_dataset, labels_dataset = shuffle(images_dataset, labels_dataset)"
   ]
  },
  {
   "cell_type": "code",
   "execution_count": 79,
   "metadata": {},
   "outputs": [
    {
     "data": {
      "text/plain": [
       "(800, 2, 64, 64)"
      ]
     },
     "execution_count": 79,
     "metadata": {},
     "output_type": "execute_result"
    }
   ],
   "source": [
    "np.array(images_dataset).shape"
   ]
  },
  {
   "cell_type": "code",
   "execution_count": 80,
   "metadata": {},
   "outputs": [
    {
     "name": "stdout",
     "output_type": "stream",
     "text": [
      "Shape of inputs: (400, 64, 64)\n",
      "Shape of labels: (400,)\n",
      "Unique values for labels: [ 0  1  2  3  4  5  6  7  8  9 10 11 12 13 14 15 16 17 18 19 20 21 22 23\n",
      " 24 25 26 27 28 29 30 31 32 33 34 35 36 37 38 39]\n"
     ]
    }
   ],
   "source": [
    "print(f\"Shape of inputs: {face_images.shape}\")\n",
    "print(f\"Shape of labels: {face_labels.shape}\")\n",
    "print(f\"Unique values for labels: {np.unique(face_labels)}\")"
   ]
  },
  {
   "cell_type": "code",
   "execution_count": 92,
   "metadata": {},
   "outputs": [
    {
     "data": {
      "text/plain": [
       "<matplotlib.image.AxesImage at 0x14b04bf8370>"
      ]
     },
     "execution_count": 92,
     "metadata": {},
     "output_type": "execute_result"
    },
    {
     "data": {
      "image/png": "[encoded data removed]",
      "text/plain": [
       "<Figure size 432x288 with 1 Axes>"
      ]
     },
     "metadata": {
      "needs_background": "light"
     },
     "output_type": "display_data"
    }
   ],
   "source": [
    "plt.imshow(face_images[1], cmap='gray')"
   ]
  },
  {
   "cell_type": "code",
   "execution_count": 93,
   "metadata": {},
   "outputs": [
    {
     "data": {
      "text/plain": [
       "<matplotlib.image.AxesImage at 0x14b04c3e4c0>"
      ]
     },
     "execution_count": 93,
     "metadata": {},
     "output_type": "execute_result"
    },
    {
     "data": {
      "image/png": "[encoded data removed]",
      "text/plain": [
       "<Figure size 432x288 with 1 Axes>"
      ]
     },
     "metadata": {
      "needs_background": "light"
     },
     "output_type": "display_data"
    }
   ],
   "source": [
    "plt.imshow(face_images[2], cmap='gray')"
   ]
  },
  {
   "cell_type": "code",
   "execution_count": 10,
   "metadata": {},
   "outputs": [
    {
     "data": {
      "text/plain": [
       "0.87603307"
      ]
     },
     "execution_count": 10,
     "metadata": {},
     "output_type": "execute_result"
    }
   ],
   "source": [
    "face_images[0].max()"
   ]
  },
  {
   "cell_type": "code",
   "execution_count": 11,
   "metadata": {},
   "outputs": [],
   "source": [
    "def make_embedding(): \n",
    "    inp = Input(shape=(64,64,1), name='input_image')\n",
    "    \n",
    "    # First block\n",
    "    c1 = Conv2D(64, (10,10), activation='relu')(inp)\n",
    "    m1 = MaxPooling2D(64, (2,2), padding='same')(c1)\n",
    "    \n",
    "    # Second block\n",
    "    c2 = Conv2D(128, (7,7), activation='relu')(m1)\n",
    "    m2 = MaxPooling2D(64, (2,2), padding='same')(c2)\n",
    "    \n",
    "    # Third block \n",
    "    c3 = Conv2D(128, (4,4), activation='relu')(m2)\n",
    "    m3 = MaxPooling2D(64, (2,2), padding='same')(c3)\n",
    "    \n",
    "    # Final embedding block\n",
    "    c4 = Conv2D(256, (4,4), activation='relu')(m3)\n",
    "    f1 = Flatten()(c4)\n",
    "    d1 = Dense(4096, activation='sigmoid')(f1)\n",
    "    \n",
    "    \n",
    "    return Model(inputs=[inp], outputs=[d1], name='embedding')"
   ]
  },
  {
   "cell_type": "code",
   "execution_count": 12,
   "metadata": {},
   "outputs": [],
   "source": [
    "embedding = make_embedding()"
   ]
  },
  {
   "cell_type": "code",
   "execution_count": 13,
   "metadata": {},
   "outputs": [
    {
     "name": "stdout",
     "output_type": "stream",
     "text": [
      "Model: \"embedding\"\n",
      "_________________________________________________________________\n",
      "Layer (type)                 Output Shape              Param #   \n",
      "=================================================================\n",
      "input_image (InputLayer)     [(None, 64, 64, 1)]       0         \n",
      "_________________________________________________________________\n",
      "conv2d (Conv2D)              (None, 55, 55, 64)        6464      \n",
      "_________________________________________________________________\n",
      "max_pooling2d (MaxPooling2D) (None, 28, 28, 64)        0         \n",
      "_________________________________________________________________\n",
      "conv2d_1 (Conv2D)            (None, 22, 22, 128)       401536    \n",
      "_________________________________________________________________\n",
      "max_pooling2d_1 (MaxPooling2 (None, 11, 11, 128)       0         \n",
      "_________________________________________________________________\n",
      "conv2d_2 (Conv2D)            (None, 8, 8, 128)         262272    \n",
      "_________________________________________________________________\n",
      "max_pooling2d_2 (MaxPooling2 (None, 4, 4, 128)         0         \n",
      "_________________________________________________________________\n",
      "conv2d_3 (Conv2D)            (None, 1, 1, 256)         524544    \n",
      "_________________________________________________________________\n",
      "flatten (Flatten)            (None, 256)               0         \n",
      "_________________________________________________________________\n",
      "dense (Dense)                (None, 4096)              1052672   \n",
      "=================================================================\n",
      "Total params: 2,247,488\n",
      "Trainable params: 2,247,488\n",
      "Non-trainable params: 0\n",
      "_________________________________________________________________\n"
     ]
    }
   ],
   "source": [
    "embedding.summary()"
   ]
  },
  {
   "cell_type": "code",
   "execution_count": 3,
   "metadata": {},
   "outputs": [],
   "source": [
    "# Siamese L1 Distance class\n",
    "class L1Dist(Layer):\n",
    "    \n",
    "    # Init method - inheritance\n",
    "    def __init__(self, **kwargs):\n",
    "        super().__init__()\n",
    "       \n",
    "    # similarity calculation\n",
    "    def call(self, input_embedding, validation_embedding):\n",
    "        return tf.math.abs(input_embedding - validation_embedding)"
   ]
  },
  {
   "cell_type": "code",
   "execution_count": 15,
   "metadata": {},
   "outputs": [],
   "source": [
    "def make_siamese_model(): \n",
    "    \n",
    "    # Anchor image input in the network\n",
    "    input_image = Input(name='input_img', shape=(64,64,1))\n",
    "    \n",
    "    # Validation image in the network \n",
    "    validation_image = Input(name='validation_img', shape=(64,64,1))\n",
    "    \n",
    "    # Combine siamese distance components\n",
    "    siamese_layer = L1Dist()\n",
    "    distances = siamese_layer(embedding(input_image), embedding(validation_image))\n",
    "    \n",
    "    # Classification layer \n",
    "    classifier = Dense(1, activation='sigmoid')(distances)\n",
    "    \n",
    "    return Model(inputs=[input_image, validation_image], outputs=classifier, name='SiameseNetwork')"
   ]
  },
  {
   "cell_type": "code",
   "execution_count": 16,
   "metadata": {},
   "outputs": [],
   "source": [
    "siamese_model = make_siamese_model()"
   ]
  },
  {
   "cell_type": "code",
   "execution_count": 17,
   "metadata": {},
   "outputs": [
    {
     "name": "stdout",
     "output_type": "stream",
     "text": [
      "Model: \"SiameseNetwork\"\n",
      "__________________________________________________________________________________________________\n",
      "Layer (type)                    Output Shape         Param #     Connected to                     \n",
      "==================================================================================================\n",
      "input_img (InputLayer)          [(None, 64, 64, 1)]  0                                            \n",
      "__________________________________________________________________________________________________\n",
      "validation_img (InputLayer)     [(None, 64, 64, 1)]  0                                            \n",
      "__________________________________________________________________________________________________\n",
      "embedding (Functional)          (None, 4096)         2247488     input_img[0][0]                  \n",
      "                                                                 validation_img[0][0]             \n",
      "__________________________________________________________________________________________________\n",
      "l1_dist (L1Dist)                (None, 4096)         0           embedding[0][0]                  \n",
      "                                                                 embedding[1][0]                  \n",
      "__________________________________________________________________________________________________\n",
      "dense_1 (Dense)                 (None, 1)            4097        l1_dist[0][0]                    \n",
      "==================================================================================================\n",
      "Total params: 2,251,585\n",
      "Trainable params: 2,251,585\n",
      "Non-trainable params: 0\n",
      "__________________________________________________________________________________________________\n"
     ]
    }
   ],
   "source": [
    "siamese_model.summary()"
   ]
  },
  {
   "cell_type": "code",
   "execution_count": 18,
   "metadata": {},
   "outputs": [
    {
     "name": "stdout",
     "output_type": "stream",
     "text": [
      "Epoch 1/60\n",
      "50/50 [==============================] - 174s 3s/step - loss: 0.6299 - accuracy: 0.5824\n",
      "Epoch 2/60\n",
      "50/50 [==============================] - 196s 4s/step - loss: 0.5637 - accuracy: 0.6254\n",
      "Epoch 3/60\n",
      "50/50 [==============================] - 178s 4s/step - loss: 0.5415 - accuracy: 0.6792\n",
      "Epoch 4/60\n",
      "50/50 [==============================] - 176s 4s/step - loss: 0.5111 - accuracy: 0.6809\n",
      "Epoch 5/60\n",
      "50/50 [==============================] - 192s 4s/step - loss: 0.4929 - accuracy: 0.7241\n",
      "Epoch 6/60\n",
      "50/50 [==============================] - 198s 4s/step - loss: 0.4916 - accuracy: 0.7505\n",
      "Epoch 7/60\n",
      "50/50 [==============================] - 179s 4s/step - loss: 0.4708 - accuracy: 0.7783\n",
      "Epoch 8/60\n",
      "50/50 [==============================] - 181s 4s/step - loss: 0.4914 - accuracy: 0.7945\n",
      "Epoch 9/60\n",
      "50/50 [==============================] - 198s 4s/step - loss: 0.4385 - accuracy: 0.8401\n",
      "Epoch 10/60\n",
      "50/50 [==============================] - 175s 4s/step - loss: 0.4321 - accuracy: 0.8434\n",
      "Epoch 11/60\n",
      "50/50 [==============================] - 182s 4s/step - loss: 0.4306 - accuracy: 0.8497\n",
      "Epoch 12/60\n",
      "50/50 [==============================] - 193s 4s/step - loss: 0.4358 - accuracy: 0.8543\n",
      "Epoch 13/60\n",
      "50/50 [==============================] - 187s 4s/step - loss: 0.4131 - accuracy: 0.8568\n",
      "Epoch 14/60\n",
      "50/50 [==============================] - 194s 4s/step - loss: 0.3941 - accuracy: 0.8971\n",
      "Epoch 15/60\n",
      "50/50 [==============================] - 186s 4s/step - loss: 0.3756 - accuracy: 0.8839\n",
      "Epoch 16/60\n",
      "50/50 [==============================] - 181s 4s/step - loss: 0.3620 - accuracy: 0.8775\n",
      "Epoch 17/60\n",
      "50/50 [==============================] - 172s 3s/step - loss: 0.3683 - accuracy: 0.9036\n",
      "Epoch 18/60\n",
      "50/50 [==============================] - 165s 3s/step - loss: 0.3436 - accuracy: 0.9080\n",
      "Epoch 19/60\n",
      "50/50 [==============================] - 172s 3s/step - loss: 0.3462 - accuracy: 0.9307\n",
      "Epoch 20/60\n",
      "50/50 [==============================] - 168s 3s/step - loss: 0.3576 - accuracy: 0.8930\n",
      "Epoch 21/60\n",
      "50/50 [==============================] - 167s 3s/step - loss: 0.3265 - accuracy: 0.9241\n",
      "Epoch 22/60\n",
      "50/50 [==============================] - 166s 3s/step - loss: 0.3225 - accuracy: 0.9261\n",
      "Epoch 23/60\n",
      "50/50 [==============================] - 166s 3s/step - loss: 0.3216 - accuracy: 0.9279\n",
      "Epoch 24/60\n",
      "50/50 [==============================] - 164s 3s/step - loss: 0.3168 - accuracy: 0.9204\n",
      "Epoch 25/60\n",
      "50/50 [==============================] - 164s 3s/step - loss: 0.3167 - accuracy: 0.9355\n",
      "Epoch 26/60\n",
      "50/50 [==============================] - 164s 3s/step - loss: 0.2726 - accuracy: 0.9451\n",
      "Epoch 27/60\n",
      "50/50 [==============================] - 165s 3s/step - loss: 0.2765 - accuracy: 0.9548\n",
      "Epoch 28/60\n",
      "50/50 [==============================] - 165s 3s/step - loss: 0.2774 - accuracy: 0.9305\n",
      "Epoch 29/60\n",
      "50/50 [==============================] - 165s 3s/step - loss: 0.2607 - accuracy: 0.9524\n",
      "Epoch 30/60\n",
      "50/50 [==============================] - 186s 4s/step - loss: 0.2546 - accuracy: 0.9492\n",
      "Epoch 31/60\n",
      "50/50 [==============================] - 189s 4s/step - loss: 0.2470 - accuracy: 0.9690\n",
      "Epoch 32/60\n",
      "50/50 [==============================] - 196s 4s/step - loss: 0.2692 - accuracy: 0.9533\n",
      "Epoch 33/60\n",
      "50/50 [==============================] - 185s 4s/step - loss: 0.2509 - accuracy: 0.9529\n",
      "Epoch 34/60\n",
      "50/50 [==============================] - 180s 4s/step - loss: 0.2278 - accuracy: 0.9662\n",
      "Epoch 35/60\n",
      "50/50 [==============================] - 180s 4s/step - loss: 0.2311 - accuracy: 0.9530\n",
      "Epoch 36/60\n",
      "50/50 [==============================] - 199s 4s/step - loss: 0.2511 - accuracy: 0.9565\n",
      "Epoch 37/60\n",
      "50/50 [==============================] - 201s 4s/step - loss: 0.2148 - accuracy: 0.9682\n",
      "Epoch 38/60\n",
      "50/50 [==============================] - 210s 4s/step - loss: 0.2182 - accuracy: 0.9614\n",
      "Epoch 39/60\n",
      "50/50 [==============================] - 185s 4s/step - loss: 0.2040 - accuracy: 0.9651\n",
      "Epoch 40/60\n",
      "50/50 [==============================] - 181s 4s/step - loss: 0.2088 - accuracy: 0.9602\n",
      "Epoch 41/60\n",
      "50/50 [==============================] - 186s 4s/step - loss: 0.2122 - accuracy: 0.9716\n",
      "Epoch 42/60\n",
      "50/50 [==============================] - 177s 4s/step - loss: 0.2088 - accuracy: 0.9712\n",
      "Epoch 43/60\n",
      "50/50 [==============================] - 191s 4s/step - loss: 0.1895 - accuracy: 0.9773\n",
      "Epoch 44/60\n",
      "50/50 [==============================] - 169s 3s/step - loss: 0.1884 - accuracy: 0.9735\n",
      "Epoch 45/60\n",
      "50/50 [==============================] - 210s 4s/step - loss: 0.1993 - accuracy: 0.9613\n",
      "Epoch 46/60\n",
      "50/50 [==============================] - 181s 4s/step - loss: 0.1711 - accuracy: 0.9768\n",
      "Epoch 47/60\n",
      "50/50 [==============================] - 187s 4s/step - loss: 0.1879 - accuracy: 0.9767\n",
      "Epoch 48/60\n",
      "50/50 [==============================] - 186s 4s/step - loss: 0.1597 - accuracy: 0.9897\n",
      "Epoch 49/60\n",
      "50/50 [==============================] - 188s 4s/step - loss: 0.1670 - accuracy: 0.9763\n",
      "Epoch 50/60\n",
      "50/50 [==============================] - 166s 3s/step - loss: 0.1750 - accuracy: 0.9672\n",
      "Epoch 51/60\n",
      "50/50 [==============================] - 170s 3s/step - loss: 0.1663 - accuracy: 0.9738\n",
      "Epoch 52/60\n",
      "50/50 [==============================] - 168s 3s/step - loss: 0.1561 - accuracy: 0.9813\n",
      "Epoch 53/60\n",
      "50/50 [==============================] - 166s 3s/step - loss: 0.1410 - accuracy: 0.9863\n",
      "Epoch 54/60\n",
      "50/50 [==============================] - 166s 3s/step - loss: 0.1374 - accuracy: 0.9877\n",
      "Epoch 55/60\n",
      "50/50 [==============================] - 165s 3s/step - loss: 0.1512 - accuracy: 0.9800\n",
      "Epoch 56/60\n",
      "50/50 [==============================] - 169s 3s/step - loss: 0.1495 - accuracy: 0.9753\n",
      "Epoch 57/60\n",
      "50/50 [==============================] - 165s 3s/step - loss: 0.1275 - accuracy: 0.9860\n",
      "Epoch 58/60\n",
      "50/50 [==============================] - 165s 3s/step - loss: 0.1234 - accuracy: 0.9973\n",
      "Epoch 59/60\n",
      "50/50 [==============================] - 165s 3s/step - loss: 0.1293 - accuracy: 0.9907\n",
      "Epoch 60/60\n",
      "50/50 [==============================] - 167s 3s/step - loss: 0.1439 - accuracy: 0.9827\n"
     ]
    }
   ],
   "source": [
    "siamese_model.compile(loss=\"binary_crossentropy\", optimizer=\"adam\", metrics=[\"accuracy\"])\n",
    "history = siamese_model.fit([images_dataset[:, 0, :], images_dataset[:, 1, :]], labels_dataset, epochs=60, batch_size = 16)"
   ]
  },
  {
   "cell_type": "code",
   "execution_count": 19,
   "metadata": {},
   "outputs": [],
   "source": [
    "siamese_model.save('siammodelOlivett.h5')"
   ]
  },
  {
   "cell_type": "code",
   "execution_count": 26,
   "metadata": {},
   "outputs": [],
   "source": [
    "# Reload model \n",
    "siamese_model = tf.keras.models.load_model('siammodelOlivett.h5', \n",
    "                                   custom_objects={'L1Dist':L1Dist, 'BinaryCrossentropy':tf.losses.BinaryCrossentropy})"
   ]
  },
  {
   "cell_type": "code",
   "execution_count": 51,
   "metadata": {},
   "outputs": [],
   "source": [
    "path_to_anchor = os.path.join(os.getcwd(), 'data', 'anchor')\n",
    "path_to_positive = os.path.join(os.getcwd(),'data', 'positive')\n",
    "path_to_negative = os.path.join(os.getcwd(),'data', 'negative')"
   ]
  },
  {
   "cell_type": "code",
   "execution_count": 76,
   "metadata": {},
   "outputs": [],
   "source": [
    "path_to_folder = os.path.join(os.getcwd(), 'data', 'Vitya')"
   ]
  },
  {
   "cell_type": "code",
   "execution_count": 77,
   "metadata": {},
   "outputs": [],
   "source": [
    "# Establish a connection to the webcam\n",
    "cap = cv2.VideoCapture(0)\n",
    "num_of_photo = 1\n",
    "while cap.isOpened(): \n",
    "    ret, frame = cap.read()\n",
    "   \n",
    "    # Cut down frame to 250x250px\n",
    "    frame = frame[120:120+250,200:200+250, :]\n",
    "    \n",
    "    # Collect anchors \n",
    "    if cv2.waitKey(1) & 0XFF == ord('a'):\n",
    "        # Create the unique file path \n",
    "        imgname = os.path.join(path_to_folder, 'Vitya{}.jpg'.format(num_of_photo))\n",
    "        # Write out anchor image\n",
    "        cv2.imwrite(imgname, frame)\n",
    "    \n",
    "    num_of_photo += 1\n",
    "    # Show image back to screen\n",
    "    cv2.imshow('Image Collection', frame)\n",
    "    \n",
    "    # Breaking gracefully\n",
    "    if cv2.waitKey(1) & 0XFF == ord('q'):\n",
    "        break\n",
    "        \n",
    "# Release the webcam\n",
    "cap.release()\n",
    "# Close the image show fraйme\n",
    "cv2.destroyAllWindows()"
   ]
  },
  {
   "cell_type": "code",
   "execution_count": 27,
   "metadata": {},
   "outputs": [],
   "source": [
    "path_to_negative = os.path.join(os.getcwd(),'data', 'negative')\n",
    "tanya_anchor = tf.data.Dataset.list_files(os.path.join(os.getcwd(), 'data', 'Tanya')+'\\*.jpg').take(20)\n",
    "tanya_positive = tf.data.Dataset.list_files(os.path.join(os.getcwd(), 'data', 'Tanya')+'\\*.jpg').take(20)\n",
    "negative = tf.data.Dataset.list_files(path_to_negative+'\\*.jpg').take(20)"
   ]
  },
  {
   "cell_type": "code",
   "execution_count": 28,
   "metadata": {},
   "outputs": [],
   "source": [
    "dir_test = tanya_anchor.as_numpy_iterator()\n",
    "dir_testbn = tanya_positive.as_numpy_iterator()"
   ]
  },
  {
   "cell_type": "code",
   "execution_count": 29,
   "metadata": {},
   "outputs": [
    {
     "name": "stdout",
     "output_type": "stream",
     "text": [
      "b'c:\\\\Diploma\\\\data\\\\Tanya\\\\Tanya3821.jpg'\n",
      "b'c:\\\\Diploma\\\\data\\\\Tanya\\\\Tanya3517.jpg'\n"
     ]
    }
   ],
   "source": [
    "print(dir_test.next())\n",
    "print(dir_testbn.next())"
   ]
  },
  {
   "cell_type": "code",
   "execution_count": 30,
   "metadata": {},
   "outputs": [],
   "source": [
    "def preprocess(file_path):\n",
    "    \n",
    "    # Read in image from file path\n",
    "    byte_img = tf.io.read_file(file_path)\n",
    "    # Load in the image \n",
    "    img = tf.io.decode_jpeg(byte_img)\n",
    "    \n",
    "    # Preprocessing steps - resizing the image to be 100x100x3\n",
    "    img = tf.image.resize(img, (64,64))\n",
    "    img = tf.image.rgb_to_grayscale(img)\n",
    "    # Scale image to be between 0 and 1 \n",
    "    img = img / 255.0\n",
    "\n",
    "    # Return image\n",
    "    return img"
   ]
  },
  {
   "cell_type": "code",
   "execution_count": 31,
   "metadata": {},
   "outputs": [],
   "source": [
    "positives = tf.data.Dataset.zip((tanya_anchor, tanya_positive, tf.data.Dataset.from_tensor_slices(tf.ones(len(tanya_anchor)))))\n",
    "negatives = tf.data.Dataset.zip((tanya_anchor, negative, tf.data.Dataset.from_tensor_slices(tf.zeros(len(tanya_anchor)))))\n",
    "data = positives.concatenate(negatives)"
   ]
  },
  {
   "cell_type": "code",
   "execution_count": 32,
   "metadata": {},
   "outputs": [
    {
     "data": {
      "text/plain": [
       "40"
      ]
     },
     "execution_count": 32,
     "metadata": {},
     "output_type": "execute_result"
    }
   ],
   "source": [
    "len(data)"
   ]
  },
  {
   "cell_type": "code",
   "execution_count": 33,
   "metadata": {},
   "outputs": [
    {
     "data": {
      "text/plain": [
       "(b'c:\\\\Diploma\\\\data\\\\Tanya\\\\Tanya3478.jpg',\n",
       " b'c:\\\\Diploma\\\\data\\\\Tanya\\\\Tanya3743.jpg',\n",
       " 1.0)"
      ]
     },
     "execution_count": 33,
     "metadata": {},
     "output_type": "execute_result"
    }
   ],
   "source": [
    "samples = data.as_numpy_iterator()\n",
    "exampple = samples.next()\n",
    "exampple"
   ]
  },
  {
   "cell_type": "code",
   "execution_count": 34,
   "metadata": {},
   "outputs": [
    {
     "data": {
      "text/plain": [
       "(b'c:\\\\Diploma\\\\data\\\\Tanya\\\\face22.jpg',\n",
       " b'c:\\\\Diploma\\\\data\\\\Tanya\\\\face22.jpg',\n",
       " 1.0)"
      ]
     },
     "execution_count": 34,
     "metadata": {},
     "output_type": "execute_result"
    }
   ],
   "source": [
    "exampple = samples.next()\n",
    "exampple"
   ]
  },
  {
   "cell_type": "code",
   "execution_count": 35,
   "metadata": {},
   "outputs": [
    {
     "name": "stdout",
     "output_type": "stream",
     "text": [
      "Tina\n",
      "Serg\n",
      "Margo\n",
      "Vova\n",
      "bloger_1\n",
      "bloger_2\n",
      "Danylo\n",
      "Svyat\n",
      "Tanegina\n",
      "Daria\n",
      "Helena\n",
      "Kreed\n",
      "Julia\n",
      "Andrew\n",
      "bloger_3\n",
      "bloger_4\n",
      "bloger_5\n",
      "bloger_6\n",
      "bloger_7\n",
      "bloger_8\n"
     ]
    }
   ],
   "source": [
    "people = ['Tina', 'Serg', 'Margo', 'Vova', 'bloger_1', 'bloger_2', 'Danylo', 'Svyat','Tanegina', 'Daria','Helena','Kreed', 'Julia', 'Andrew',\n",
    "          'bloger_3','bloger_4','bloger_5','bloger_6', 'bloger_7','bloger_8']\n",
    "#people = ['Tina', 'Serg', 'Vova', 'Vitya', 'bloger_2']\n",
    "for i in people:\n",
    "    local_path = os.path.join(os.getcwd(), 'data', i)\n",
    "\n",
    "    anchor = tf.data.Dataset.list_files(os.path.join(local_path+'\\*.jpg')).take(20)\n",
    "    positive = tf.data.Dataset.list_files(os.path.join(local_path+'\\*.jpg')).take(20)\n",
    "    negative = tf.data.Dataset.list_files(path_to_negative+'\\*.jpg').take(20)\n",
    "\n",
    "    positives = tf.data.Dataset.zip((anchor, positive, tf.data.Dataset.from_tensor_slices(tf.ones(len(anchor)))))\n",
    "    negatives = tf.data.Dataset.zip((anchor, negative, tf.data.Dataset.from_tensor_slices(tf.zeros(len(anchor)))))\n",
    "    \n",
    "    data = data.concatenate(positives)\n",
    "    data = data.concatenate(negatives)\n",
    "    \n",
    "    print(i)"
   ]
  },
  {
   "cell_type": "code",
   "execution_count": 36,
   "metadata": {},
   "outputs": [
    {
     "data": {
      "text/plain": [
       "812"
      ]
     },
     "execution_count": 36,
     "metadata": {},
     "output_type": "execute_result"
    }
   ],
   "source": [
    "len(data)"
   ]
  },
  {
   "cell_type": "code",
   "execution_count": 37,
   "metadata": {},
   "outputs": [],
   "source": [
    "def preprocess_twin(input_img, validation_img, label):\n",
    "    return(preprocess(input_img), preprocess(validation_img), label)"
   ]
  },
  {
   "cell_type": "code",
   "execution_count": 38,
   "metadata": {},
   "outputs": [],
   "source": [
    "# Build dataloader pipeline\n",
    "data = data.map(preprocess_twin)\n",
    "data = data.cache()\n",
    "data = data.shuffle(buffer_size=10000)"
   ]
  },
  {
   "cell_type": "code",
   "execution_count": 39,
   "metadata": {},
   "outputs": [],
   "source": [
    "# Training partition\n",
    "train_data = data.take(round(len(data)*.7))\n",
    "\n",
    "# Testing partition\n",
    "test_data = data.skip(round(len(data)*.7))\n",
    "test_data = test_data.take(round(len(data)*.3))\n"
   ]
  },
  {
   "cell_type": "code",
   "execution_count": 40,
   "metadata": {},
   "outputs": [],
   "source": [
    "images_anc, images_val, labels = tuple(zip(*train_data))"
   ]
  },
  {
   "cell_type": "code",
   "execution_count": 89,
   "metadata": {},
   "outputs": [
    {
     "data": {
      "text/plain": [
       "<matplotlib.image.AxesImage at 0x14b04b0fca0>"
      ]
     },
     "execution_count": 89,
     "metadata": {},
     "output_type": "execute_result"
    },
    {
     "data": {
      "image/png": "[encoded data removed]",
      "text/plain": [
       "<Figure size 432x288 with 1 Axes>"
      ]
     },
     "metadata": {
      "needs_background": "light"
     },
     "output_type": "display_data"
    }
   ],
   "source": [
    "plt.imshow(np.array(images_anc)[4],cmap='gray')"
   ]
  },
  {
   "cell_type": "code",
   "execution_count": 90,
   "metadata": {},
   "outputs": [
    {
     "data": {
      "text/plain": [
       "<matplotlib.image.AxesImage at 0x14b04b78910>"
      ]
     },
     "execution_count": 90,
     "metadata": {},
     "output_type": "execute_result"
    },
    {
     "data": {
      "image/png": "[encoded data removed]",
      "text/plain": [
       "<Figure size 432x288 with 1 Axes>"
      ]
     },
     "metadata": {
      "needs_background": "light"
     },
     "output_type": "display_data"
    }
   ],
   "source": [
    "plt.imshow(np.array(images_val)[4], cmap='gray')"
   ]
  },
  {
   "cell_type": "code",
   "execution_count": 91,
   "metadata": {},
   "outputs": [
    {
     "data": {
      "text/plain": [
       "1.0"
      ]
     },
     "execution_count": 91,
     "metadata": {},
     "output_type": "execute_result"
    }
   ],
   "source": [
    "np.array(labels)[4]"
   ]
  },
  {
   "cell_type": "code",
   "execution_count": 44,
   "metadata": {},
   "outputs": [
    {
     "name": "stdout",
     "output_type": "stream",
     "text": [
      "Epoch 1/30\n",
      "18/18 [==============================] - 126s 7s/step - loss: 1.2518 - accuracy: 0.5299\n",
      "Epoch 2/30\n",
      "18/18 [==============================] - 122s 7s/step - loss: 0.8465 - accuracy: 0.5194\n",
      "Epoch 3/30\n",
      "18/18 [==============================] - 123s 7s/step - loss: 0.8509 - accuracy: 0.5563\n",
      "Epoch 4/30\n",
      "18/18 [==============================] - 125s 7s/step - loss: 0.7588 - accuracy: 0.5951\n",
      "Epoch 5/30\n",
      "18/18 [==============================] - 123s 7s/step - loss: 0.7518 - accuracy: 0.5915\n",
      "Epoch 6/30\n",
      "18/18 [==============================] - 122s 7s/step - loss: 0.6962 - accuracy: 0.6144\n",
      "Epoch 7/30\n",
      "18/18 [==============================] - 125s 7s/step - loss: 0.6881 - accuracy: 0.6338\n",
      "Epoch 8/30\n",
      "18/18 [==============================] - 123s 7s/step - loss: 0.6904 - accuracy: 0.6356\n",
      "Epoch 9/30\n",
      "18/18 [==============================] - 124s 7s/step - loss: 0.6907 - accuracy: 0.6250\n",
      "Epoch 10/30\n",
      "18/18 [==============================] - 123s 7s/step - loss: 0.6279 - accuracy: 0.6743\n",
      "Epoch 11/30\n",
      "18/18 [==============================] - 134s 7s/step - loss: 0.5814 - accuracy: 0.6796\n",
      "Epoch 12/30\n",
      "18/18 [==============================] - 133s 7s/step - loss: 0.6019 - accuracy: 0.7201\n",
      "Epoch 13/30\n",
      "18/18 [==============================] - 132s 7s/step - loss: 0.5930 - accuracy: 0.6972\n",
      "Epoch 14/30\n",
      "18/18 [==============================] - 129s 7s/step - loss: 0.5579 - accuracy: 0.7042\n",
      "Epoch 15/30\n",
      "18/18 [==============================] - 128s 7s/step - loss: 0.5291 - accuracy: 0.7465\n",
      "Epoch 16/30\n",
      "18/18 [==============================] - 132s 7s/step - loss: 0.5286 - accuracy: 0.7447\n",
      "Epoch 17/30\n",
      "18/18 [==============================] - 127s 7s/step - loss: 0.5032 - accuracy: 0.7711\n",
      "Epoch 18/30\n",
      "18/18 [==============================] - 126s 7s/step - loss: 0.4956 - accuracy: 0.7729\n",
      "Epoch 19/30\n",
      "18/18 [==============================] - 127s 7s/step - loss: 0.4879 - accuracy: 0.7782\n",
      "Epoch 20/30\n",
      "18/18 [==============================] - 126s 7s/step - loss: 0.4843 - accuracy: 0.7958\n",
      "Epoch 21/30\n",
      "18/18 [==============================] - 122s 7s/step - loss: 0.4938 - accuracy: 0.7782\n",
      "Epoch 22/30\n",
      "18/18 [==============================] - 124s 7s/step - loss: 0.4652 - accuracy: 0.8011\n",
      "Epoch 23/30\n",
      "18/18 [==============================] - 128s 7s/step - loss: 0.4550 - accuracy: 0.8028\n",
      "Epoch 24/30\n",
      "18/18 [==============================] - 128s 7s/step - loss: 0.4534 - accuracy: 0.7993\n",
      "Epoch 25/30\n",
      "18/18 [==============================] - 126s 7s/step - loss: 0.4077 - accuracy: 0.8239\n",
      "Epoch 26/30\n",
      "18/18 [==============================] - 124s 7s/step - loss: 0.4801 - accuracy: 0.7782\n",
      "Epoch 27/30\n",
      "18/18 [==============================] - 127s 7s/step - loss: 0.4988 - accuracy: 0.7676\n",
      "Epoch 28/30\n",
      "18/18 [==============================] - 125s 7s/step - loss: 0.4889 - accuracy: 0.7799\n",
      "Epoch 29/30\n",
      "18/18 [==============================] - 133s 7s/step - loss: 0.4077 - accuracy: 0.8345\n",
      "Epoch 30/30\n",
      "18/18 [==============================] - 131s 7s/step - loss: 0.3643 - accuracy: 0.8697\n"
     ]
    }
   ],
   "source": [
    "#siamese_model.compile(loss=\"binary_crossentropy\", optimizer=\"adam\", metrics=[\"accuracy\"])\n",
    "history = siamese_model.fit([np.array(images_anc), np.array(images_val)], np.array(labels), epochs=30, batch_size = 32)"
   ]
  },
  {
   "cell_type": "code",
   "execution_count": 54,
   "metadata": {},
   "outputs": [
    {
     "name": "stdout",
     "output_type": "stream",
     "text": [
      "Epoch 1/20\n",
      "18/18 [==============================] - 138s 8s/step - loss: 0.3572 - accuracy: 0.8662\n",
      "Epoch 2/20\n",
      "18/18 [==============================] - 135s 8s/step - loss: 0.3395 - accuracy: 0.8662\n",
      "Epoch 3/20\n",
      "18/18 [==============================] - 136s 8s/step - loss: 0.3726 - accuracy: 0.8539\n",
      "Epoch 4/20\n",
      "18/18 [==============================] - 134s 7s/step - loss: 0.3746 - accuracy: 0.8521\n",
      "Epoch 5/20\n",
      "18/18 [==============================] - 135s 7s/step - loss: 0.3351 - accuracy: 0.8838\n",
      "Epoch 6/20\n",
      "18/18 [==============================] - 134s 7s/step - loss: 0.3171 - accuracy: 0.9032\n",
      "Epoch 7/20\n",
      "18/18 [==============================] - 133s 7s/step - loss: 0.2948 - accuracy: 0.9120\n",
      "Epoch 8/20\n",
      "18/18 [==============================] - 132s 7s/step - loss: 0.3468 - accuracy: 0.8785\n",
      "Epoch 9/20\n",
      "18/18 [==============================] - 132s 7s/step - loss: 0.3274 - accuracy: 0.8732\n",
      "Epoch 10/20\n",
      "18/18 [==============================] - 136s 8s/step - loss: 0.2952 - accuracy: 0.9014\n",
      "Epoch 11/20\n",
      "18/18 [==============================] - 134s 7s/step - loss: 0.3156 - accuracy: 0.8873\n",
      "Epoch 12/20\n",
      "18/18 [==============================] - 135s 7s/step - loss: 0.2949 - accuracy: 0.8961\n",
      "Epoch 13/20\n",
      "18/18 [==============================] - 135s 8s/step - loss: 0.2694 - accuracy: 0.9173\n",
      "Epoch 14/20\n",
      "18/18 [==============================] - 135s 8s/step - loss: 0.2589 - accuracy: 0.9225\n",
      "Epoch 15/20\n",
      "18/18 [==============================] - 126s 7s/step - loss: 0.2941 - accuracy: 0.9049\n",
      "Epoch 16/20\n",
      "18/18 [==============================] - 125s 7s/step - loss: 0.3200 - accuracy: 0.8732\n",
      "Epoch 17/20\n",
      "18/18 [==============================] - 126s 7s/step - loss: 0.3222 - accuracy: 0.8803\n",
      "Epoch 18/20\n",
      "18/18 [==============================] - 125s 7s/step - loss: 0.2901 - accuracy: 0.8856\n",
      "Epoch 19/20\n",
      "18/18 [==============================] - 126s 7s/step - loss: 0.2886 - accuracy: 0.8961\n",
      "Epoch 20/20\n",
      "18/18 [==============================] - 125s 7s/step - loss: 0.2500 - accuracy: 0.9313\n"
     ]
    }
   ],
   "source": [
    "history = siamese_model.fit([np.array(images_anc), np.array(images_val)], np.array(labels), epochs=20, batch_size = 32)"
   ]
  },
  {
   "cell_type": "code",
   "execution_count": 64,
   "metadata": {},
   "outputs": [
    {
     "name": "stdout",
     "output_type": "stream",
     "text": [
      "Epoch 1/20\n",
      "18/18 [==============================] - 288s 16s/step - loss: 0.2541 - accuracy: 0.9261\n",
      "Epoch 2/20\n",
      "18/18 [==============================] - 290s 16s/step - loss: 0.2189 - accuracy: 0.9525\n",
      "Epoch 3/20\n",
      "18/18 [==============================] - 281s 16s/step - loss: 0.2076 - accuracy: 0.9384\n",
      "Epoch 4/20\n",
      "18/18 [==============================] - 253s 14s/step - loss: 0.1969 - accuracy: 0.9595\n",
      "Epoch 5/20\n",
      "18/18 [==============================] - 293s 16s/step - loss: 0.2289 - accuracy: 0.9384\n",
      "Epoch 6/20\n",
      "18/18 [==============================] - 298s 16s/step - loss: 0.1825 - accuracy: 0.9683\n",
      "Epoch 7/20\n",
      "18/18 [==============================] - 270s 15s/step - loss: 0.1692 - accuracy: 0.9718\n",
      "Epoch 8/20\n",
      "18/18 [==============================] - 340s 19s/step - loss: 0.1823 - accuracy: 0.9648\n",
      "Epoch 9/20\n",
      "18/18 [==============================] - 372s 21s/step - loss: 0.1930 - accuracy: 0.9525\n",
      "Epoch 10/20\n",
      "18/18 [==============================] - 383s 21s/step - loss: 0.1775 - accuracy: 0.9577\n",
      "Epoch 11/20\n",
      "18/18 [==============================] - 377s 21s/step - loss: 0.2052 - accuracy: 0.9560\n",
      "Epoch 12/20\n",
      "18/18 [==============================] - 379s 21s/step - loss: 0.1574 - accuracy: 0.9806\n",
      "Epoch 13/20\n",
      "18/18 [==============================] - 330s 18s/step - loss: 0.1748 - accuracy: 0.9595\n",
      "Epoch 14/20\n",
      "18/18 [==============================] - 298s 17s/step - loss: 0.1620 - accuracy: 0.9754\n",
      "Epoch 15/20\n",
      "18/18 [==============================] - 284s 16s/step - loss: 0.1615 - accuracy: 0.9665\n",
      "Epoch 16/20\n",
      "18/18 [==============================] - 259s 14s/step - loss: 0.1653 - accuracy: 0.9736\n",
      "Epoch 17/20\n",
      "18/18 [==============================] - 120s 7s/step - loss: 0.1356 - accuracy: 0.9877\n",
      "Epoch 18/20\n",
      "18/18 [==============================] - 138s 8s/step - loss: 0.1423 - accuracy: 0.9754\n",
      "Epoch 19/20\n",
      "18/18 [==============================] - 145s 8s/step - loss: 0.1266 - accuracy: 0.9859\n",
      "Epoch 20/20\n",
      "18/18 [==============================] - 142s 8s/step - loss: 0.1571 - accuracy: 0.9683\n"
     ]
    }
   ],
   "source": [
    "history = siamese_model.fit([np.array(images_anc), np.array(images_val)], np.array(labels), epochs=20, batch_size = 32)"
   ]
  },
  {
   "cell_type": "code",
   "execution_count": 72,
   "metadata": {},
   "outputs": [],
   "source": [
    "siamese_model.save('simmodelvar1.h5')"
   ]
  },
  {
   "cell_type": "code",
   "execution_count": 65,
   "metadata": {},
   "outputs": [
    {
     "data": {
      "text/plain": [
       "<matplotlib.legend.Legend at 0x14b6dc88760>"
      ]
     },
     "execution_count": 65,
     "metadata": {},
     "output_type": "execute_result"
    },
    {
     "data": {
      "image/png": "[encoded data removed]",
      "text/plain": [
       "<Figure size 432x288 with 1 Axes>"
      ]
     },
     "metadata": {
      "needs_background": "light"
     },
     "output_type": "display_data"
    }
   ],
   "source": [
    "# Training Plot\n",
    "plt.plot(history.history[\"loss\"])\n",
    "plt.plot(history.history[\"accuracy\"])\n",
    "plt.legend([\"Loss\",\"Accuracy\"])"
   ]
  },
  {
   "cell_type": "code",
   "execution_count": 4,
   "metadata": {},
   "outputs": [],
   "source": [
    "# Reload model \n",
    "siamese_model = tf.keras.models.load_model('siammodelOlivett.h5', \n",
    "                                   custom_objects={'L1Dist':L1Dist, 'BinaryCrossentropy':tf.losses.BinaryCrossentropy})"
   ]
  },
  {
   "cell_type": "code",
   "execution_count": null,
   "metadata": {},
   "outputs": [],
   "source": [
    "tanya_anchor = tf.data.Dataset.list_files(os.path.join(os.getcwd(), 'data', 'Tanya')+'\\*.jpg').take(20)\n",
    "tanya_positive = tf.data.Dataset.list_files(os.path.join(os.getcwd(), 'data', 'Tanya')+'\\*.jpg').take(20)"
   ]
  },
  {
   "cell_type": "code",
   "execution_count": 66,
   "metadata": {},
   "outputs": [],
   "source": [
    "test_input, test_val, y_true = tuple(zip(*test_data))\n",
    "y_hat = siamese_model.predict([np.array(test_input), np.array(test_val)])\n"
   ]
  },
  {
   "cell_type": "code",
   "execution_count": null,
   "metadata": {},
   "outputs": [],
   "source": [
    "y_hat = siamese_model.predict([np.array(test_input), np.array(test_val)])"
   ]
  },
  {
   "cell_type": "code",
   "execution_count": 67,
   "metadata": {},
   "outputs": [
    {
     "data": {
      "text/plain": [
       "array([[9.56091285e-03],\n",
       "       [4.51403260e-02],\n",
       "       [8.11563611e-01],\n",
       "       [8.64357948e-01],\n",
       "       [1.86801910e-01],\n",
       "       [6.09049797e-02],\n",
       "       [3.34970355e-02],\n",
       "       [8.89290929e-01],\n",
       "       [4.84365225e-03],\n",
       "       [7.77730227e-01],\n",
       "       [9.73649919e-02],\n",
       "       [8.83080244e-01],\n",
       "       [6.68641627e-02],\n",
       "       [7.96645224e-01],\n",
       "       [2.64553726e-01],\n",
       "       [3.14684330e-05],\n",
       "       [1.70864463e-02],\n",
       "       [2.44670689e-01],\n",
       "       [8.93401980e-01],\n",
       "       [8.71732235e-01],\n",
       "       [9.02131379e-01],\n",
       "       [7.97217488e-01],\n",
       "       [8.33100557e-01],\n",
       "       [1.95074081e-03],\n",
       "       [3.45826298e-01],\n",
       "       [1.22918576e-01],\n",
       "       [3.84495884e-01],\n",
       "       [2.57596374e-03],\n",
       "       [8.28658104e-01],\n",
       "       [9.01691794e-01],\n",
       "       [6.48776549e-05],\n",
       "       [8.86257291e-01],\n",
       "       [1.24479473e-01],\n",
       "       [4.29689288e-02],\n",
       "       [4.43041325e-04],\n",
       "       [4.02864814e-03],\n",
       "       [8.94822240e-01],\n",
       "       [9.21682537e-01],\n",
       "       [8.40480089e-01],\n",
       "       [9.76079702e-03],\n",
       "       [9.23609376e-01],\n",
       "       [2.42984742e-01],\n",
       "       [6.63126349e-01],\n",
       "       [4.35490906e-02],\n",
       "       [9.17880833e-02],\n",
       "       [7.89339423e-01],\n",
       "       [8.05634797e-01],\n",
       "       [2.57811725e-01],\n",
       "       [6.34882748e-02],\n",
       "       [3.33229452e-01],\n",
       "       [4.46703017e-01],\n",
       "       [8.56360614e-01],\n",
       "       [9.06300187e-01],\n",
       "       [8.29967380e-01],\n",
       "       [9.06950235e-03],\n",
       "       [2.76485085e-02],\n",
       "       [2.57532179e-01],\n",
       "       [4.57423925e-03],\n",
       "       [6.84310615e-01],\n",
       "       [1.38377905e-01],\n",
       "       [9.19207573e-01],\n",
       "       [3.36673856e-03],\n",
       "       [1.07438207e-01],\n",
       "       [4.58188474e-01],\n",
       "       [6.88136280e-01],\n",
       "       [8.39341402e-01],\n",
       "       [8.71102989e-01],\n",
       "       [3.49768996e-03],\n",
       "       [8.88494849e-01],\n",
       "       [7.93955564e-01],\n",
       "       [9.10124004e-01],\n",
       "       [9.13742065e-01],\n",
       "       [9.12585437e-01],\n",
       "       [3.20261717e-03],\n",
       "       [3.98948431e-01],\n",
       "       [3.97673249e-03],\n",
       "       [8.49289060e-01],\n",
       "       [1.95706815e-01],\n",
       "       [1.31827295e-02],\n",
       "       [9.92613137e-02],\n",
       "       [5.90987921e-01],\n",
       "       [3.51902217e-01],\n",
       "       [8.09863925e-01],\n",
       "       [5.32895327e-04],\n",
       "       [5.68074286e-02],\n",
       "       [5.58772922e-01],\n",
       "       [6.05306029e-03],\n",
       "       [1.76954746e-01],\n",
       "       [4.88855243e-02],\n",
       "       [3.03795576e-01],\n",
       "       [5.80214977e-01],\n",
       "       [1.04328096e-02],\n",
       "       [8.38756561e-04],\n",
       "       [9.23609376e-01],\n",
       "       [2.88979709e-02],\n",
       "       [8.91916156e-01],\n",
       "       [9.07570481e-01],\n",
       "       [7.72890344e-05],\n",
       "       [9.12772655e-01],\n",
       "       [7.32222795e-01],\n",
       "       [3.85731459e-03],\n",
       "       [9.15481865e-01],\n",
       "       [9.14397120e-01],\n",
       "       [3.20773512e-01],\n",
       "       [8.98210883e-01],\n",
       "       [6.47997260e-02],\n",
       "       [6.43304288e-01],\n",
       "       [2.90100276e-02],\n",
       "       [6.99220955e-01],\n",
       "       [1.26129389e-03],\n",
       "       [2.23440826e-02],\n",
       "       [6.18546188e-01],\n",
       "       [8.05188060e-01],\n",
       "       [3.71187925e-04],\n",
       "       [6.08285606e-01],\n",
       "       [9.92149413e-02],\n",
       "       [3.90022993e-04],\n",
       "       [7.03835368e-01],\n",
       "       [8.81602526e-01],\n",
       "       [7.02857137e-01],\n",
       "       [1.05328560e-02],\n",
       "       [9.05173659e-01],\n",
       "       [2.38835812e-01],\n",
       "       [5.82947552e-01],\n",
       "       [8.65225434e-01],\n",
       "       [9.23609376e-01],\n",
       "       [5.01161516e-02],\n",
       "       [8.81922007e-01],\n",
       "       [1.79288864e-01],\n",
       "       [9.11813974e-03],\n",
       "       [7.64714956e-01],\n",
       "       [6.04579151e-02],\n",
       "       [1.30342126e-01],\n",
       "       [6.83602989e-01],\n",
       "       [5.81499815e-01],\n",
       "       [8.88531804e-01],\n",
       "       [8.72979462e-01],\n",
       "       [8.84981692e-01],\n",
       "       [9.05096531e-04],\n",
       "       [8.64481807e-01],\n",
       "       [3.40580642e-02],\n",
       "       [4.02431190e-02],\n",
       "       [2.49466598e-02],\n",
       "       [9.17279005e-01],\n",
       "       [1.53511763e-03],\n",
       "       [5.65740705e-01],\n",
       "       [8.50883722e-01],\n",
       "       [1.87098980e-04],\n",
       "       [8.95609021e-01],\n",
       "       [4.31818664e-02],\n",
       "       [1.63464546e-02],\n",
       "       [1.10656023e-03],\n",
       "       [1.92105770e-04],\n",
       "       [8.35720420e-01],\n",
       "       [1.90123916e-03],\n",
       "       [6.24110460e-01],\n",
       "       [2.75471210e-02],\n",
       "       [8.11375678e-02],\n",
       "       [4.34222072e-01],\n",
       "       [8.42254221e-01],\n",
       "       [6.89145923e-03],\n",
       "       [1.65804029e-02],\n",
       "       [8.32908094e-01],\n",
       "       [5.29317439e-01],\n",
       "       [2.21115649e-02],\n",
       "       [1.34145021e-02],\n",
       "       [8.89809132e-01],\n",
       "       [5.22479057e-01],\n",
       "       [8.66081357e-01],\n",
       "       [9.19169426e-01],\n",
       "       [8.94507945e-01],\n",
       "       [5.21742225e-01],\n",
       "       [6.72165751e-02],\n",
       "       [5.34227490e-02],\n",
       "       [5.02109528e-04],\n",
       "       [9.17256176e-01],\n",
       "       [1.84291601e-03],\n",
       "       [8.98489833e-01],\n",
       "       [7.12554216e-01],\n",
       "       [8.27494740e-01],\n",
       "       [4.26194072e-03],\n",
       "       [8.88412833e-01],\n",
       "       [2.00540423e-02],\n",
       "       [5.24440408e-03],\n",
       "       [5.49381375e-02],\n",
       "       [3.83994222e-01],\n",
       "       [6.97152376e-01],\n",
       "       [3.74621153e-03],\n",
       "       [2.11510062e-02],\n",
       "       [9.16026592e-01],\n",
       "       [8.81594300e-01],\n",
       "       [9.23609376e-01],\n",
       "       [1.94431543e-02],\n",
       "       [1.93059444e-04],\n",
       "       [7.63170242e-01],\n",
       "       [2.17425823e-02],\n",
       "       [8.40480089e-01],\n",
       "       [6.36206567e-02],\n",
       "       [8.52214932e-01],\n",
       "       [8.70894074e-01],\n",
       "       [1.53628618e-01],\n",
       "       [4.26501036e-03],\n",
       "       [5.78949749e-01],\n",
       "       [9.07369018e-01],\n",
       "       [8.02195191e-01],\n",
       "       [5.42294085e-02],\n",
       "       [8.89809132e-01],\n",
       "       [6.06414199e-01],\n",
       "       [3.35901976e-04],\n",
       "       [9.23609376e-01],\n",
       "       [8.39341402e-01],\n",
       "       [2.95499049e-05],\n",
       "       [7.94413686e-03],\n",
       "       [2.54571438e-03],\n",
       "       [6.13764286e-01],\n",
       "       [4.52429056e-04],\n",
       "       [4.78625864e-01],\n",
       "       [6.05088711e-01],\n",
       "       [9.50008631e-04],\n",
       "       [9.23609376e-01],\n",
       "       [2.04907656e-02],\n",
       "       [9.20726180e-01],\n",
       "       [1.66581422e-01],\n",
       "       [7.50360608e-01],\n",
       "       [5.50290942e-02],\n",
       "       [1.70552731e-03],\n",
       "       [8.84712219e-01],\n",
       "       [5.93981147e-03],\n",
       "       [9.21502829e-01],\n",
       "       [3.27891111e-03],\n",
       "       [7.47664809e-01],\n",
       "       [8.45615804e-01],\n",
       "       [9.09806848e-01],\n",
       "       [5.84292948e-01],\n",
       "       [9.14570212e-01],\n",
       "       [3.78744215e-01],\n",
       "       [1.94504857e-03],\n",
       "       [8.03527236e-03],\n",
       "       [8.25980067e-01],\n",
       "       [9.13280845e-01],\n",
       "       [3.07746086e-05],\n",
       "       [1.88415825e-01],\n",
       "       [8.86200130e-01],\n",
       "       [1.48969293e-02]], dtype=float32)"
      ]
     },
     "execution_count": 67,
     "metadata": {},
     "output_type": "execute_result"
    }
   ],
   "source": [
    "y_hat"
   ]
  },
  {
   "cell_type": "code",
   "execution_count": 68,
   "metadata": {},
   "outputs": [],
   "source": [
    "# Post processing the results \n",
    "a = np.array([1 if prediction > 0.5 else 0 for prediction in y_hat ])"
   ]
  },
  {
   "cell_type": "code",
   "execution_count": 69,
   "metadata": {},
   "outputs": [],
   "source": [
    "b = np.array(y_true).astype(np.int)"
   ]
  },
  {
   "cell_type": "code",
   "execution_count": 70,
   "metadata": {},
   "outputs": [
    {
     "data": {
      "text/plain": [
       "0.8565573770491803"
      ]
     },
     "execution_count": 70,
     "metadata": {},
     "output_type": "execute_result"
    }
   ],
   "source": [
    "#accuracy for test\n",
    "sum(a == b) / len(a)"
   ]
  },
  {
   "cell_type": "code",
   "execution_count": 71,
   "metadata": {},
   "outputs": [
    {
     "name": "stdout",
     "output_type": "stream",
     "text": [
      "0.83064514 0.8803419 0.0\n"
     ]
    }
   ],
   "source": [
    "# Import metric calculations\n",
    "from tensorflow.keras.metrics import Precision, Recall, Accuracy\n",
    "r = Recall()\n",
    "p = Precision()\n",
    "a = Accuracy()\n",
    "\n",
    "yhat = siamese_model.predict([np.array(test_input), np.array(test_val)])\n",
    "r.update_state(y_true, yhat)\n",
    "p.update_state(y_true,yhat) \n",
    "a.update_state(y_true,yhat) \n",
    "\n",
    "print(r.result().numpy(), p.result().numpy(), a.result().numpy())"
   ]
  },
  {
   "cell_type": "code",
   "execution_count": null,
   "metadata": {},
   "outputs": [],
   "source": []
  }
 ],
 "metadata": {
  "interpreter": {
   "hash": "1b6e35e833ae7312d95295944a5b76e42ceaf8bcce8610c85101fe4ffaf9cd1c"
  },
  "kernelspec": {
   "display_name": "Python 3.8.12 64-bit ('R': conda)",
   "language": "python",
   "name": "python3"
  },
  "language_info": {
   "codemirror_mode": {
    "name": "ipython",
    "version": 3
   },
   "file_extension": ".py",
   "mimetype": "text/x-python",
   "name": "python",
   "nbconvert_exporter": "python",
   "pygments_lexer": "ipython3",
   "version": "3.8.12"
  },
  "orig_nbformat": 4
 },
 "nbformat": 4,
 "nbformat_minor": 2
}
